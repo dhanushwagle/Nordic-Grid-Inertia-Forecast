{
 "cells": [
  {
   "cell_type": "code",
   "execution_count": 13,
   "id": "4c3718bb",
   "metadata": {},
   "outputs": [],
   "source": [
    "import pandas as pd\n",
    "import matplotlib.pyplot as plt"
   ]
  },
  {
   "cell_type": "code",
   "execution_count": 14,
   "id": "e7ad21aa",
   "metadata": {},
   "outputs": [],
   "source": [
    "df = pd.read_excel('Nordic_Grid.xlsx')"
   ]
  },
  {
   "cell_type": "code",
   "execution_count": 15,
   "id": "d4fe32ab",
   "metadata": {},
   "outputs": [
    {
     "data": {
      "text/html": [
       "<div>\n",
       "<style scoped>\n",
       "    .dataframe tbody tr th:only-of-type {\n",
       "        vertical-align: middle;\n",
       "    }\n",
       "\n",
       "    .dataframe tbody tr th {\n",
       "        vertical-align: top;\n",
       "    }\n",
       "\n",
       "    .dataframe thead th {\n",
       "        text-align: right;\n",
       "    }\n",
       "</style>\n",
       "<table border=\"1\" class=\"dataframe\">\n",
       "  <thead>\n",
       "    <tr style=\"text-align: right;\">\n",
       "      <th></th>\n",
       "      <th>Number</th>\n",
       "      <th>Values</th>\n",
       "      <th>Datas</th>\n",
       "    </tr>\n",
       "  </thead>\n",
       "  <tbody>\n",
       "    <tr>\n",
       "      <th>0</th>\n",
       "      <td>1</td>\n",
       "      <td>Inertia of the System:                     = 1...</td>\n",
       "      <td>14.98275</td>\n",
       "    </tr>\n",
       "    <tr>\n",
       "      <th>1</th>\n",
       "      <td>2</td>\n",
       "      <td>Inertia of the System:                     = 1...</td>\n",
       "      <td>15.06599</td>\n",
       "    </tr>\n",
       "    <tr>\n",
       "      <th>2</th>\n",
       "      <td>3</td>\n",
       "      <td>Inertia of the System:                     = 1...</td>\n",
       "      <td>15.14922</td>\n",
       "    </tr>\n",
       "    <tr>\n",
       "      <th>3</th>\n",
       "      <td>4</td>\n",
       "      <td>Inertia of the System:                     = 1...</td>\n",
       "      <td>15.23246</td>\n",
       "    </tr>\n",
       "    <tr>\n",
       "      <th>4</th>\n",
       "      <td>5</td>\n",
       "      <td>Inertia of the System:                     = 1...</td>\n",
       "      <td>15.31570</td>\n",
       "    </tr>\n",
       "  </tbody>\n",
       "</table>\n",
       "</div>"
      ],
      "text/plain": [
       "   Number                                             Values     Datas\n",
       "0       1  Inertia of the System:                     = 1...  14.98275\n",
       "1       2  Inertia of the System:                     = 1...  15.06599\n",
       "2       3  Inertia of the System:                     = 1...  15.14922\n",
       "3       4  Inertia of the System:                     = 1...  15.23246\n",
       "4       5  Inertia of the System:                     = 1...  15.31570"
      ]
     },
     "execution_count": 15,
     "metadata": {},
     "output_type": "execute_result"
    }
   ],
   "source": [
    "df.head()"
   ]
  },
  {
   "cell_type": "code",
   "execution_count": 16,
   "id": "2c483942",
   "metadata": {},
   "outputs": [
    {
     "data": {
      "text/plain": [
       "0     14.98275\n",
       "1     15.06599\n",
       "2     15.14922\n",
       "3     15.23246\n",
       "4     15.31570\n",
       "5     15.39894\n",
       "6     15.48217\n",
       "7     15.56541\n",
       "8     15.64865\n",
       "9     15.73189\n",
       "10    15.81512\n",
       "11    15.89836\n",
       "12    15.98160\n",
       "13    16.06484\n",
       "14    16.14807\n",
       "15    16.23131\n",
       "16    16.31455\n",
       "17    16.39779\n",
       "18    16.48102\n",
       "19    16.56426\n",
       "20    16.64750\n",
       "21    16.73074\n",
       "22    16.81397\n",
       "23    16.89721\n",
       "24    16.98045\n",
       "25    17.06369\n",
       "26    17.14692\n",
       "27    17.23016\n",
       "28    17.31340\n",
       "29    17.39664\n",
       "Name: Datas, dtype: float64"
      ]
     },
     "execution_count": 16,
     "metadata": {},
     "output_type": "execute_result"
    }
   ],
   "source": [
    "df['Datas']"
   ]
  },
  {
   "cell_type": "code",
   "execution_count": 17,
   "id": "49bc4fc2",
   "metadata": {},
   "outputs": [
    {
     "data": {
      "image/png": "[encoded data removed]",
      "text/plain": [
       "<Figure size 432x288 with 1 Axes>"
      ]
     },
     "metadata": {
      "needs_background": "light"
     },
     "output_type": "display_data"
    }
   ],
   "source": [
    "plt.plot(df['Number'], df['Datas'], 'g*-')\n",
    "plt.title('Inertia Vs Time')\n",
    "plt.xlabel('Time (min)')\n",
    "plt.ylabel('System Inertia,H (sec)')\n",
    "plt.savefig('plot.jpeg', dpi=200)\n",
    "plt.show()"
   ]
  },
  {
   "cell_type": "code",
   "execution_count": null,
   "id": "3c4b2013",
   "metadata": {},
   "outputs": [],
   "source": []
  }
 ],
 "metadata": {
  "kernelspec": {
   "display_name": "Python 3",
   "language": "python",
   "name": "python3"
  },
  "language_info": {
   "codemirror_mode": {
    "name": "ipython",
    "version": 3
   },
   "file_extension": ".py",
   "mimetype": "text/x-python",
   "name": "python",
   "nbconvert_exporter": "python",
   "pygments_lexer": "ipython3",
   "version": "3.8.10"
  }
 },
 "nbformat": 4,
 "nbformat_minor": 5
}
