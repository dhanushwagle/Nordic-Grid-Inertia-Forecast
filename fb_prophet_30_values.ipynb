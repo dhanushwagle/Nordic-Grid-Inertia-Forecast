{
 "cells": [
  {
   "cell_type": "code",
   "execution_count": 1,
   "id": "77c5876c",
   "metadata": {},
   "outputs": [],
   "source": [
    "from prophet import Prophet\n",
    "import pandas as pd\n",
    "import matplotlib.pyplot as plt\n",
    "import numpy as np"
   ]
  },
  {
   "cell_type": "code",
   "execution_count": null,
   "id": "50a3ca86",
   "metadata": {},
   "outputs": [],
   "source": [
    "error=[]\n",
    "#colnames=[\"ds\",\"y\"] \n",
    "location=\"December-2019.csv\"\n",
    "df=pd.read_csv(location)\n",
    "#print(df)\n",
    "df[\"ds\"]=pd.to_datetime(df['ds'])\n",
    "df=df.rename(columns={'KE':'y'})\n",
    "#scaling()\n",
    "#daframe_classification()\n",
    "#plt.plot(df[\"t\"],df[\"y_scaled\"])\n",
    "#plt.show()\n",
    "test=60\n",
    "train=2440-test\n",
    "#print(train)\n",
    "#print((df['ds']<=df[\"ds\"][train]))\n",
    "#print(df[(df['ds']>=df[\"ds\"][1])])#& (df['ds']<=df[\"ds\"][train])])\n",
    "train_df=df[(df['ds']>=df[\"ds\"][1]) & (df['ds']<=df[\"ds\"][train])]\n",
    "test_df=df[df['ds']>=df[\"ds\"][train]]\n",
    "print(test_df)\n",
    "i=0\n",
    "period=14\n",
    "\n",
    "# loop from here\n",
    "while i!=1492:\n",
    "    ranges=2380-period\n",
    "    train_temp_df=train_df[df['ds']>=df[\"ds\"][ranges]]\n",
    "    #print(train_temp_df)\n",
    "    model=Prophet()\n",
    "    model.fit(train_temp_df)\n",
    "    #print(prediction)\n",
    "    final_df=test_df\n",
    "    #final_df[\"predisc_ds\"]\n",
    "    #final_df\n",
    "    #test_df\n",
    "    prediction=model.predict(test_df)\n",
    "    final_df[\"y_predict\"]=prediction['yhat'].values.reshape(-1,1)\n",
    "    \n",
    "    a=final_df['y']-final_df['y_predict']\n",
    "    b=(a*a).sum()/len(a)\n",
    "    error.append(np.sqrt(b))\n",
    "    print(error)\n",
    "    print(i, \" sample collected out of 22380\")\n",
    "    i=i+1\n",
    "    period=period+15\n",
    "    final_df\n",
    "plt.plot(final_df[\"ds\"],final_df[\"y_predict\"])\n",
    "plt.plot(final_df[\"ds\"],final_df[\"y\"])\n",
    "plt.show()"
   ]
  },
  {
   "cell_type": "code",
   "execution_count": null,
   "id": "58fb7127",
   "metadata": {},
   "outputs": [],
   "source": []
  }
 ],
 "metadata": {
  "kernelspec": {
   "display_name": "Python 3",
   "language": "python",
   "name": "python3"
  },
  "language_info": {
   "codemirror_mode": {
    "name": "ipython",
    "version": 3
   },
   "file_extension": ".py",
   "mimetype": "text/x-python",
   "name": "python",
   "nbconvert_exporter": "python",
   "pygments_lexer": "ipython3",
   "version": "3.8.10"
  }
 },
 "nbformat": 4,
 "nbformat_minor": 5
}
